{
 "cells": [
  {
   "cell_type": "markdown",
   "id": "804bfac4",
   "metadata": {},
   "source": [
    "## **Understanding Binary Representation, `binary64`, and `float64` in IEEE 754**\n",
    "\n",
    "### **Binary Representation: Basics**\n",
    "In **binary representation**, numbers are expressed using only **0s and 1s**. Each bit represents a **power of 2**, similar to how decimal numbers use powers of 10.\n",
    "\n",
    "For example, the binary number **`1011`** represents:\n",
    "\n",
    "$$\n",
    "(1 \\times 2^3) + (0 \\times 2^2) + (1 \\times 2^1) + (1 \\times 2^0) = 8 + 0 + 2 + 1 = 11\n",
    "$$\n",
    "\n",
    "In computers, numbers are stored in binary using **fixed sizes** (e.g., 32-bit called single precision, or 64-bit floating point called double precision).\n",
    "\n",
    "---\n",
    "\n",
    "### **What is `binary64` / `float64`?**\n",
    "The **IEEE 754 `binary64` format**, also known as `float64`, is the **64-bit** representation of floating-point numbers. It consists of:\n",
    "\n",
    "| **Component**  | **Bits** | **Description** |\n",
    "|--------------|------|-------------------------|\n",
    "| **Sign** | 1 | Determines if the number is positive (0) or negative (1) |\n",
    "| **Exponent** | 11 | Stores the exponent with a **bias of 1023** |\n",
    "| **Mantissa (Fraction)** | 52 | Stores the **significant digits (mantissa)** of the number |\n",
    "\n",
    "A floating-point number is represented as:\n",
    "\n",
    "$$\n",
    "(-1)^{\\text{sign}} \\times 1.\\text{mantissa} \\times 2^{(\\text{exponent} - 1023)}\n",
    "$$\n",
    "\n",
    "---\n",
    "\n",
    "### **Special Values in `binary64`**\n",
    "IEEE 754 defines several special floating-point values:\n",
    "\n",
    "| **Type** | **Sign Bit** | **Exponent** | **Mantissa** | **Value** |\n",
    "|----------|----------|----------|----------|-------------------|\n",
    "| **Zero** | 0 / 1 | `00000000000` | `000000000000...` | $+0.0$, $-0.0$ |\n",
    "| **Normalized Numbers** | 0 / 1 | `00000000001` to `11111111110` | any | Standard floating points |\n",
    "| **Infinity** | 0 / 1 | `11111111111` | `000000000000...` | $+\\infty$, $-\\infty$ |\n",
    "| **NaN (Not a Number)** | 0 / 1 | `11111111111` | nonzero | Indeterminate results |\n",
    "\n",
    "🔹 **Infinity (`inf`)** appears when a calculation exceeds the largest possible float (`float64.max`).  \n",
    "🔹 **NaN (Not-a-Number)** results from **undefined operations**, e.g., `0/0` or `sqrt(-1)`.\n",
    "\n",
    "---\n",
    "\n",
    "### **Machine Epsilon $\\epsilon_{machine}$**\n",
    "**Machine epsilon ($\\epsilon_{machine}$)** is the smallest number **that can be added to 1 and still be distinguishable** in floating-point arithmetic.\n",
    "\n",
    "For `binary64`:\n",
    "\n",
    "$$\n",
    "\\epsilon_{\\text{machine}} = 2^{-52} \\approx 2.22045 \\times 10^{-16}\n",
    "$$\n",
    "\n",
    "This means that **any number smaller than $\\epsilon_{machine}$ added to 1 will not change the result** due to precision limits.\n",
    "\n",
    "---\n",
    "\n",
    "### **Min & Max Float Values**\n",
    "| **Property** | **Formula** | **Value** |\n",
    "|-------------|------------|-----------|\n",
    "| **Smallest positive normal float** | $2^{-1022}$ | $2.225 \\times 10^{-308}$ |\n",
    "| **Largest float** | $ (2 - 2^{-52}) \\times 2^{1023} $ | $1.798 \\times 10^{308}$ |\n",
    "\n",
    "\n",
    "\n",
    "---\n",
    "\n",
    "### **Rounding Errors & Floating-Point Precision**\n",
    "Floating-point arithmetic is **not exact** because some numbers **cannot be represented perfectly** in binary.\n",
    "\n",
    "#### **Common Issues:**\n",
    "1. **Precision Loss**: Some decimals (e.g., `0.1`) do not have exact binary representations.\n",
    "   - Example: $0.1_{10} = 0.0001100110011..._2$ (repeating in binary)\n",
    "2. **Accumulation Error**: Small rounding errors add up in long calculations.\n",
    "3. **Catastrophic Cancellation**: Subtracting nearly equal numbers can cause significant loss of precision.\n",
    "\n"
   ]
  },
  {
   "cell_type": "code",
   "execution_count": 2,
   "id": "2849644f",
   "metadata": {},
   "outputs": [],
   "source": [
    "# This section implement conversion and visualization of IEEE 754 binary64 (double precision) floating-point numbers.\n",
    "\n",
    "import struct\n",
    "import matplotlib.pyplot as plt\n",
    "\n",
    "def float_to_binary64(num):\n",
    "    \"\"\"\n",
    "    Convert a float to its IEEE 754 binary64 (double precision) representation.\n",
    "    \"\"\"\n",
    "    packed = struct.pack('>d', num)  # Pack as big-endian double\n",
    "    binary_str = ''.join(f'{byte:08b}' for byte in packed)  # Convert bytes to binary string\n",
    "    \n",
    "    # Extract components\n",
    "    sign = binary_str[0]\n",
    "    exponent = binary_str[1:12]\n",
    "    mantissa = binary_str[12:]\n",
    "    \n",
    "    return f\"{sign} | {exponent} | {mantissa}\", binary_str\n",
    "\n",
    "def binary64_to_float(binary_str):\n",
    "    \"\"\"\n",
    "    Convert a binary64 string back to a floating-point number.\n",
    "    \"\"\"\n",
    "    clean_binary_str = binary_str.replace(\" | \", \"\")\n",
    "    if len(clean_binary_str) != 64:\n",
    "        raise ValueError(\"Binary string must be exactly 64 bits long\")\n",
    "    \n",
    "    # Convert binary to bytes\n",
    "    byte_array = bytes(int(clean_binary_str[i:i+8], 2) for i in range(0, 64, 8))\n",
    "    \n",
    "    # Unpack as double precision float\n",
    "    return struct.unpack('>d', byte_array)[0]\n",
    "\n",
    "def visualize_binary64(binary_str):\n",
    "    \"\"\"\n",
    "    Visualize the binary64 representation of a floating-point number.\n",
    "    \"\"\"\n",
    "    sign, exponent, mantissa = binary_str.split(\" | \")\n",
    "    segments = [sign, exponent, mantissa]\n",
    "    labels = [\"S (1 bit)\", \"E (11 bits)\", \"M (52 bits)\"]\n",
    "    colors = [\"red\", \"blue\", \"green\"]\n",
    "    \n",
    "    fig, ax = plt.subplots(figsize=(12, 3))\n",
    "    start = 0\n",
    "    for label, segment, color in zip(labels, segments, colors):\n",
    "        ax.text(start + len(segment) / 2, 0.5, segment, fontsize=12, ha=\"center\", va=\"center\", color=\"white\",\n",
    "                bbox=dict(facecolor=color, edgecolor=\"black\", boxstyle=\"round,pad=0.3\"))\n",
    "        ax.text(start + len(segment) / 2, 1.2, label, fontsize=14, ha=\"center\", va=\"center\", color=\"black\", fontweight=\"bold\")\n",
    "        start += len(segment) + 3  # Account for separator spacing\n",
    "    \n",
    "    ax.set_xlim(0, 64 + 6)  # Extra space for separators\n",
    "    ax.set_ylim(0, 1.5)\n",
    "    ax.axis(\"off\")\n",
    "    ax.set_title(\"IEEE 754 Binary64 Representation\", fontsize=16)\n",
    "    plt.show()\n",
    "\n",
    "\n"
   ]
  },
  {
   "cell_type": "markdown",
   "id": "8f0d3890",
   "metadata": {},
   "source": [
    "### **You can test here how numbers are converted from decimal to binary64 and viceversa**"
   ]
  },
  {
   "cell_type": "markdown",
   "id": "1e9e3a24",
   "metadata": {},
   "source": [
    "### Enter num in scientific notation to obtain the binary 64 representation"
   ]
  },
  {
   "cell_type": "code",
   "execution_count": 6,
   "id": "f9dcccf4",
   "metadata": {},
   "outputs": [
    {
     "name": "stdout",
     "output_type": "stream",
     "text": [
      "Binary representation of 2e-20: 0 | 01110111101 | 0111100111001010000100001100100100100100001000100011\n",
      "\n"
     ]
    },
    {
     "data": {
      "image/png": "[encoded data removed]",
      "text/plain": [
       "<Figure size 1200x300 with 1 Axes>"
      ]
     },
     "metadata": {},
     "output_type": "display_data"
    }
   ],
   "source": [
    "# Binary64 representation of a decimal number\n",
    "\n",
    "##### Enter num in scientific notation to obtain the binary 64 representation\n",
    "num = 2e-20\n",
    "\n",
    "\n",
    "\n",
    "binary_representation, binary_str_clean = float_to_binary64(num)\n",
    "print(f\"Binary representation of {num}: {binary_representation}\\n\")\n",
    "visualize_binary64(binary_representation)\n",
    "\n"
   ]
  },
  {
   "cell_type": "markdown",
   "id": "168e83bd",
   "metadata": {},
   "source": [
    "$$\n",
    "x = (-1)^S \\times M  \\times 2^E\n",
    "$$"
   ]
  },
  {
   "cell_type": "markdown",
   "id": "ac9f15a7",
   "metadata": {},
   "source": [
    "### Enter a string of 64 bits (in binary64 format) to obtain the decinal representation in scientific notation\n"
   ]
  },
  {
   "cell_type": "code",
   "execution_count": 11,
   "id": "b2f9eba7",
   "metadata": {},
   "outputs": [
    {
     "data": {
      "image/png": "[encoded data removed]",
      "text/plain": [
       "<Figure size 1200x300 with 1 Axes>"
      ]
     },
     "metadata": {},
     "output_type": "display_data"
    },
    {
     "name": "stdout",
     "output_type": "stream",
     "text": [
      "Decinal representation of binary64 0 | 11111111110 | 0000000000000000000000000000000000000000000000000001: 8.988465674311582e+307\n"
     ]
    }
   ],
   "source": [
    "##### Enter a string of 64 bits (in binary64 format) to obtain the decinal representation in scientific notation\n",
    "\n",
    "# Example binary64 string conversions\n",
    "\n",
    "binary_representation = \"0 | 11111111110 | 0000000000000000000000000000000000000000000000000001\"\n",
    "\n",
    "converted_float = binary64_to_float(binary_representation)\n",
    "visualize_binary64(binary_representation)\n",
    "print(f\"Decinal representation of binary64 {binary_representation}: {converted_float}\")\n"
   ]
  },
  {
   "cell_type": "markdown",
   "id": "b67b686c",
   "metadata": {},
   "source": [
    "$$\n",
    "x = (-1)^S \\times M  \\times 2^E\n",
    "$$"
   ]
  },
  {
   "cell_type": "markdown",
   "id": "c71e6bad",
   "metadata": {},
   "source": [
    "### **There are minor differences between native python and nompy for `binary64`**\n",
    "\n",
    "Test this checking the min, max and eps in the native python and numpy "
   ]
  },
  {
   "cell_type": "code",
   "execution_count": 12,
   "id": "11d042dd-ef7c-489d-90bb-68a725dc2757",
   "metadata": {},
   "outputs": [
    {
     "name": "stdout",
     "output_type": "stream",
     "text": [
      "native python min 2.2250738585072014e-308\n",
      "native python max 1.7976931348623157e+308\n",
      "native python epsilon 2.220446049250313e-16\n",
      "numpy min: -1.7976931348623157e+308\n",
      "numpy max: 1.7976931348623157e+308\n",
      "numpy epsilon: 2.220446049250313e-16\n"
     ]
    }
   ],
   "source": [
    "import numpy as np\n",
    "import sys\n",
    "\n",
    "### Native python min, max and epsilon\n",
    "\n",
    "print('native python min', sys.float_info.min)\n",
    "print('native python max', sys.float_info.max)\n",
    "print('native python epsilon', sys.float_info.epsilon)\n",
    "\n",
    "### Numpy min, max and epsilon\n",
    "\n",
    "print('numpy min:',np.finfo(np.float64).min)  \n",
    "print('numpy max:',np.finfo(np.float64).max)  \n",
    "print('numpy epsilon:',np.finfo(np.float64).eps)"
   ]
  },
  {
   "cell_type": "code",
   "execution_count": 13,
   "id": "37afddc6",
   "metadata": {},
   "outputs": [
    {
     "name": "stdout",
     "output_type": "stream",
     "text": [
      "Machine epsilon (Python float64): 2.220446049250313e-16\n",
      "Difference (1.0 + epsilon - 1.0): 2.220446049250313e-16\n"
     ]
    }
   ],
   "source": [
    "# Test the smallest distinguishable increment from 1.0\n",
    "import sys\n",
    "python_epsilon = sys.float_info.epsilon\n",
    "test_value = 0.3 + python_epsilon \n",
    "difference = test_value - 0.3\n",
    "print(f\"Machine epsilon (Python float64): {python_epsilon}\")\n",
    "print(f\"Difference (1.0 + epsilon - 1.0): {difference}\")"
   ]
  },
  {
   "cell_type": "markdown",
   "id": "54b4aad1",
   "metadata": {},
   "source": [
    "### **Examples of rounding errors** \n",
    "You can check this on numbers that have a periodic notation in binary "
   ]
  },
  {
   "cell_type": "code",
   "execution_count": 11,
   "id": "df41111a",
   "metadata": {},
   "outputs": [
    {
     "name": "stdout",
     "output_type": "stream",
     "text": [
      "0.9999999999999999\n"
     ]
    }
   ],
   "source": [
    "x = 0.1\n",
    "sum_x = sum([x] * 10)  # Adding 0.1 ten times\n",
    "print(sum_x)"
   ]
  },
  {
   "cell_type": "code",
   "execution_count": 12,
   "id": "05897531",
   "metadata": {},
   "outputs": [
    {
     "name": "stdout",
     "output_type": "stream",
     "text": [
      "0.30000000000000004\n"
     ]
    }
   ],
   "source": [
    "print(0.1 + 0.2)"
   ]
  }
 ],
 "metadata": {
  "kernelspec": {
   "display_name": "3.10.11",
   "language": "python",
   "name": "python3"
  },
  "language_info": {
   "codemirror_mode": {
    "name": "ipython",
    "version": 3
   },
   "file_extension": ".py",
   "mimetype": "text/x-python",
   "name": "python",
   "nbconvert_exporter": "python",
   "pygments_lexer": "ipython3",
   "version": "3.10.11"
  }
 },
 "nbformat": 4,
 "nbformat_minor": 5
}
