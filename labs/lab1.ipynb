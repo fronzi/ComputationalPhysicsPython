{
 "cells": [
  {
   "cell_type": "markdown",
   "metadata": {
    "vscode": {
     "languageId": "plaintext"
    }
   },
   "source": [
    "# Week 1: Projectile Motion using Euler's Method"
   ]
  },
  {
   "cell_type": "code",
   "execution_count": 2,
   "metadata": {},
   "outputs": [],
   "source": [
    "import numpy as np\n",
    "import matplotlib.pyplot as plt"
   ]
  },
  {
   "cell_type": "markdown",
   "metadata": {},
   "source": [
    "# Euler Method"
   ]
  },
  {
   "cell_type": "code",
   "execution_count": 3,
   "metadata": {},
   "outputs": [],
   "source": [
    "# ---------- Simple projectile motion using Euler's method ---------- #\n",
    "\n",
    "def proj_euler(speed_m, angle, tau, dimTau=False):\n",
    "\n",
    "    ''' This code takes dimensional tau values and\n",
    "    non dimensionalises them using Ts. \n",
    "    dimTau = True means the value provided is dimensional while\n",
    "    dimTau = False means the value provided is non-dimensional '''\n",
    "\n",
    "    # Dimensionalisation parameters\n",
    "    G = 9.8  # Acceleration due to gravity (m/s^2)\n",
    "    Ls = 1  # Choice for scaling length (m)\n",
    "    Ts = np.sqrt(Ls / G)  # Scale for time (s)\n",
    "\n",
    "    if dimTau == True:\n",
    "        tau = tau/Ts # makes tau non dimensional!\n",
    "\n",
    "    # Convert angle to radians\n",
    "    angle = np.radians(angle)\n",
    "\n",
    "    # Non-dimensionalise initial speed\n",
    "    speed = speed_m / (Ls / Ts)\n",
    "\n",
    "    # Row vectors for non-dimensional position and velocity\n",
    "    pos = np.array([0, 0])\n",
    "    vel = speed * np.array([np.cos(angle), np.sin(angle)])\n",
    "\n",
    "    # Store Initial Condition (for plotting):\n",
    "    x, y = [pos[0]], [pos[1]]\n",
    "\n",
    "    # ---- Euler's method ---- #\n",
    "    \n",
    "    while pos[1] >= 0:\n",
    "        \n",
    "        # Compute one step of Euler's method:\n",
    "        # First update position using current velocity\n",
    "        pos = pos + tau * vel\n",
    "        # Then update velocity with gravity\n",
    "        vel = vel + tau * np.array([0, -1])\n",
    "\n",
    "        # Store position for plotting\n",
    "        x.append(pos[0])\n",
    "        y.append(pos[1])\n",
    "\n",
    "    # ---- Estimate Range ---- #\n",
    "\n",
    "    # Linear interpolation to estimate the range of the projectile\n",
    "    coOrdsOver = np.array([x[-2], y[-2]])  # Last point projectile above axis\n",
    "    coOrdsUnder = np.array([x[-1], y[-1]])  # Projectile under ground\n",
    "    range = coOrdsUnder[0] - coOrdsUnder[1] * (coOrdsUnder[0] - coOrdsOver[0]) / (coOrdsUnder[1] - coOrdsOver[1])\n",
    "    range_m = Ls * range  # Convert back to m\n",
    "\n",
    "    # Analytic expression for range\n",
    "    an_range_m = (speed_m**2 * np.sin(2 * angle)) / G\n",
    "\n",
    "    return x, y, range_m, an_range_m\n"
   ]
  },
  {
   "cell_type": "markdown",
   "metadata": {},
   "source": [
    "## _Q1 (midpoint method):_\n",
    "### What is the local truncation error in position for the midpoint method?\n",
    "\n"
   ]
  },
  {
   "cell_type": "markdown",
   "metadata": {},
   "source": [
    "## _Q2 (midpoint method):_\n",
    "### What is the percentage error in the range, compared with the exact analytic value?\n",
    "\n",
    "## <span style=\"color:red\">Answer</span>"
   ]
  },
  {
   "cell_type": "markdown",
   "metadata": {},
   "source": [
    "## _Q3 (midpoint method):_\n",
    "### What is the scaling of the absolute percentage error $E$ with $\\tau$?\n",
    "\n"
   ]
  },
  {
   "cell_type": "markdown",
   "metadata": {},
   "source": [
    "## _Q4 (midpoint method):_\n",
    "### Which of the following factors is the dominant source of error you (should have) observed above for the range, $R$?\n",
    "\n"
   ]
  },
  {
   "cell_type": "markdown",
   "metadata": {},
   "source": [
    "## _Q5 (Euler method):_\n",
    "### Determine the range for the Euler's method solution with the non-dimensional time step $\\tau=0.01$.\n",
    "\n"
   ]
  },
  {
   "cell_type": "markdown",
   "metadata": {},
   "source": [
    "## _Q6 (Euler method):_\n",
    "### What is the percentage error in Euler's method?\n",
    "\n"
   ]
  },
  {
   "cell_type": "markdown",
   "metadata": {},
   "source": [
    "## _Q7 (Euler method):_\n",
    "### What is the dominant source of error in our estimate of the range using Euler's method as above?\n",
    "\n"
   ]
  },
  {
   "cell_type": "markdown",
   "metadata": {},
   "source": [
    "## _Q8 (Euler method):_\n",
    "### What dimensional time step (in seconds) does the non-dimensional time step $\\tau=0.1$ correspond to?\n",
    "\n"
   ]
  },
  {
   "cell_type": "markdown",
   "metadata": {},
   "source": [
    "## _Q9 (Euler method):_\n",
    "### Produce a table with columns of the time step, the Euler's method estimate of the range, and the percentage error in the range by comparison with the analytic formula.\n",
    "\n"
   ]
  },
  {
   "cell_type": "markdown",
   "metadata": {},
   "source": [
    "## _Q10 (Euler method):_\n",
    "### When the value of $\\tau$ is increased by a factor of ten, by what factor does the error change?\n",
    "\n"
   ]
  },
  {
   "cell_type": "markdown",
   "metadata": {},
   "source": [
    "## _Q11 (Euler method):_\n",
    "### Briefly outline the relevant argument for how the global error is predicted to scale with $\\tau$; complete your answer with a brief statement about why the predicted scaling with $\\tau$ is consistent with your results.\n",
    "\n"
   ]
  },
  {
   "cell_type": "markdown",
   "metadata": {},
   "source": []
  },
  {
   "cell_type": "markdown",
   "metadata": {},
   "source": []
  },
  {
   "cell_type": "markdown",
   "metadata": {},
   "source": []
  }
 ],
 "metadata": {
  "kernelspec": {
   "display_name": "CompPhys",
   "language": "python",
   "name": "python3"
  },
  "language_info": {
   "codemirror_mode": {
    "name": "ipython",
    "version": 3
   },
   "file_extension": ".py",
   "mimetype": "text/x-python",
   "name": "python",
   "nbconvert_exporter": "python",
   "pygments_lexer": "ipython3",
   "version": "3.12.9"
  }
 },
 "nbformat": 4,
 "nbformat_minor": 2
}
