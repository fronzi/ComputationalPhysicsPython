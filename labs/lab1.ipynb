{
 "cells": [
  {
   "cell_type": "markdown",
   "metadata": {
    "vscode": {
     "languageId": "plaintext"
    }
   },
   "source": [
    "# Week 1: Projectile Motion using Euler's Method"
   ]
  },
  {
   "cell_type": "code",
   "execution_count": 2,
   "metadata": {},
   "outputs": [],
   "source": [
    "import numpy as np\n",
    "import matplotlib.pyplot as plt"
   ]
  },
  {
   "cell_type": "markdown",
   "metadata": {},
   "source": [
    "# Euler Method"
   ]
  },
  {
   "cell_type": "code",
   "execution_count": 3,
   "metadata": {},
   "outputs": [],
   "source": [
    "# ---------- Simple projectile motion using Euler's method ---------- #\n",
    "\n",
    "def proj_euler(speed_m, angle, tau, dimTau=False):\n",
    "\n",
    "    ''' This code takes dimensional tau values and\n",
    "    non dimensionalises them using Ts. \n",
    "    dimTau = True means the value provided is dimensional while\n",
    "    dimTau = False means the value provided is non-dimensional '''\n",
    "\n",
    "    # Dimensionalisation parameters\n",
    "    G = 9.8  # Acceleration due to gravity (m/s^2)\n",
    "    Ls = 1  # Choice for scaling length (m)\n",
    "    Ts = np.sqrt(Ls / G)  # Scale for time (s)\n",
    "\n",
    "    if dimTau == True:\n",
    "        tau = tau/Ts # makes tau non dimensional!\n",
    "\n",
    "    # Convert angle to radians\n",
    "    angle = np.radians(angle)\n",
    "\n",
    "    # Non-dimensionalise initial speed\n",
    "    speed = speed_m / (Ls / Ts)\n",
    "\n",
    "    # Row vectors for non-dimensional position and velocity\n",
    "    pos = np.array([0, 0])\n",
    "    vel = speed * np.array([np.cos(angle), np.sin(angle)])\n",
    "\n",
    "    # Store Initial Condition (for plotting):\n",
    "    x, y = [pos[0]], [pos[1]]\n",
    "\n",
    "    # ---- Euler's method ---- #\n",
    "    \n",
    "    while pos[1] >= 0:\n",
    "        \n",
    "        # Compute one step of Euler's method:\n",
    "        # First update position using current velocity\n",
    "        pos = pos + tau * vel\n",
    "        # Then update velocity with gravity\n",
    "        vel = vel + tau * np.array([0, -1])\n",
    "\n",
    "        # Store position for plotting\n",
    "        x.append(pos[0])\n",
    "        y.append(pos[1])\n",
    "\n",
    "    # ---- Estimate Range ---- #\n",
    "\n",
    "    # Linear interpolation to estimate the range of the projectile\n",
    "    coOrdsOver = np.array([x[-2], y[-2]])  # Last point projectile above axis\n",
    "    coOrdsUnder = np.array([x[-1], y[-1]])  # Projectile under ground\n",
    "    range = coOrdsUnder[0] - coOrdsUnder[1] * (coOrdsUnder[0] - coOrdsOver[0]) / (coOrdsUnder[1] - coOrdsOver[1])\n",
    "    range_m = Ls * range  # Convert back to m\n",
    "\n",
    "    # Analytic expression for range\n",
    "    an_range_m = (speed_m**2 * np.sin(2 * angle)) / G\n",
    "\n",
    "    return x, y, range_m, an_range_m\n"
   ]
  },
  {
   "cell_type": "code",
   "execution_count": 4,
   "metadata": {},
   "outputs": [],
   "source": [
    "# First, define new method \n",
    "\n",
    "def proj_midpoint(speed_m, angle, tau, dimTau = False):\n",
    "\n",
    "    '''\n",
    "    dimTau = True means the value provided is dimensional while\n",
    "    dimTau = False means the value provided is non-dimensional\n",
    "    \n",
    "    Since this code works with non-dimensional values of tau,\n",
    "        if your tau is dimensional, toggle dimTau = True\n",
    "        if your tau is already non-dimensional, leave the default dimTau = False '''\n",
    "\n",
    "    # Dimensionalisation parameters\n",
    "    G = 9.8  # Acceleration due to gravity (m/s^2)\n",
    "    Ls = 1  # Choice for scaling length (m)\n",
    "    Ts = np.sqrt(Ls / G)  # Scale for time (s)\n",
    "\n",
    "    if dimTau == True:\n",
    "\n",
    "        tau = tau/Ts\n",
    "\n",
    "    # Convert angle to radians\n",
    "    angle = np.radians(angle)\n",
    "\n",
    "    # Non-dimensionalise initial speed\n",
    "    speed = speed_m / (Ls / Ts)\n",
    "\n",
    "    # Row vectors for non-dimensional position and velocity\n",
    "    pos = np.array([0, 0])\n",
    "    vel = speed * np.array([np.cos(angle), np.sin(angle)])\n",
    "\n",
    "    # Store Initial Condition (for plotting):\n",
    "    x, y = [pos[0]], [pos[1]]\n",
    "\n",
    "    # ---- Midpoint method ---- #\n",
    "    \n",
    "    while pos[1] >= 0:\n",
    "        \n",
    "        # Compute one step of midpoint method:\n",
    "        velp = vel  # Store value of velocity\n",
    "        vel = velp + tau * np.array([0, -1])\n",
    "        pos = pos + 0.5 * tau * (vel + velp)  \n",
    "\n",
    "        # Store position for plotting\n",
    "        x.append(pos[0])\n",
    "        y.append(pos[1])\n",
    "\n",
    "    # ---- Estimate Range ---- #\n",
    "\n",
    "    # Linear interpolation to estimate the range of the projectile\n",
    "    coOrdsOver = np.array([x[-2], y[-2]])  # Last point projectile above axis\n",
    "    coOrdsUnder = np.array([x[-1], y[-1]])  # Projectile under ground\n",
    "    range = coOrdsUnder[0] - coOrdsUnder[1] * (coOrdsUnder[0] - coOrdsOver[0]) / (coOrdsUnder[1] - coOrdsOver[1])\n",
    "    range_m = Ls * range  # Convert back to m\n",
    "\n",
    "    # Analytic expression for range\n",
    "    an_range_m = (speed_m**2 * np.sin(2 * angle)) / G\n",
    "\n",
    "    return x, y, range_m, an_range_m\n"
   ]
  },
  {
   "cell_type": "code",
   "execution_count": 5,
   "metadata": {},
   "outputs": [
    {
     "name": "stdout",
     "output_type": "stream",
     "text": [
      "Percentage Error: 0.0572%\n"
     ]
    }
   ],
   "source": [
    "# Dimensional time-step, tau\n",
    "tau = 0.5\n",
    "\n",
    "speed_m_new = 50\n",
    "angle_new = 40\n",
    "\n",
    "_, _, Range, Ranalytic = proj_midpoint(speed_m_new, angle_new, tau, dimTau = True)\n",
    "percError = abs(Range - Ranalytic) / Ranalytic * 100\n",
    "\n",
    "print(f'Percentage Error: {percError:.4f}%')"
   ]
  },
  {
   "cell_type": "code",
   "execution_count": null,
   "metadata": {},
   "outputs": [],
   "source": [
    "time_steps = np.array([0.001, 0.01, 0.1, 1]) # non-dimensional time steps\n",
    "\n",
    "percError_array = np.zeros(len(time_steps))\n",
    "\n",
    "for i in range(len(time_steps)):\n",
    "\n",
    "    tau = time_steps[i]\n",
    "\n",
    "    _, _, Range, Ranalytic = proj_midpoint(speed_m_new, angle_new, tau)\n",
    "    percError_array[i] = abs(Range - Ranalytic) / Ranalytic * 100\n",
    "\n",
    "plt.loglog(time_steps, percError_array, 'o-k')\n",
    "plt.xlabel('Time step, non dim.')\n",
    "plt.ylabel('Percentage Error')\n",
    "plt.show()"
   ]
  },
  {
   "cell_type": "code",
   "execution_count": 7,
   "metadata": {},
   "outputs": [
    {
     "name": "stdout",
     "output_type": "stream",
     "text": [
      "Range from Euler's method: 252.45 m\n"
     ]
    }
   ],
   "source": [
    "# Non dimensional time-step, tau\n",
    "tau = 0.1\n",
    "\n",
    "speed_m = 50 # Initial speed in m/s; change if needed\n",
    "angle = 40 # Initial angle in degrees; change if needed\n",
    "\n",
    "# Run the Euler simulation\n",
    "x, y, range_m, an_range_m = proj_euler(speed_m, angle, tau, dimTau=False)\n",
    "\n",
    "print(f\"Range from Euler's method: {range_m:.2f} m\")"
   ]
  },
  {
   "cell_type": "code",
   "execution_count": 8,
   "metadata": {},
   "outputs": [
    {
     "name": "stdout",
     "output_type": "stream",
     "text": [
      "Percentage error: 0.4865 %\n"
     ]
    }
   ],
   "source": [
    "percErrorEuler =  100 * (range_m - an_range_m) / an_range_m\n",
    "print(f\"Percentage error: {percErrorEuler:.4f} %\")"
   ]
  },
  {
   "cell_type": "code",
   "execution_count": 9,
   "metadata": {},
   "outputs": [
    {
     "name": "stdout",
     "output_type": "stream",
     "text": [
      "Dimensional tau: 0.0319\n"
     ]
    }
   ],
   "source": [
    "tau = 0.1 # non dimensional tau\n",
    "\n",
    "# Dimensionalisation parameters\n",
    "G = 9.8  # Acceleration due to gravity (m/s^2)\n",
    "Ls = 1  # Choice for scaling length (m)\n",
    "Ts = np.sqrt(Ls / G)  # Scale for time (s)\n",
    "\n",
    "tau_dim = tau*Ts  # Dimensional time step\n",
    "\n",
    "print(f\"Dimensional tau: {tau_dim:.4f}\")"
   ]
  },
  {
   "cell_type": "code",
   "execution_count": null,
   "metadata": {},
   "outputs": [],
   "source": [
    "time_steps = np.array([0.001, 0.01, 0.1, 1]) # Dimensional\n",
    "\n",
    "numerical_range = np.zeros(len(time_steps))\n",
    "percErrorEuler_array = np.zeros(len(time_steps))\n",
    "\n",
    "for i in range(len(time_steps)):\n",
    "\n",
    "    tau = time_steps[i]\n",
    "\n",
    "    _, _, numerical_range[i], Ranalytic = proj_euler(speed_m, angle, tau, dimTau = True)\n",
    "    percErrorEuler_array[i] = abs(numerical_range[i] - Ranalytic) / Ranalytic * 100\n",
    "\n",
    "print(\"{:<10} {:<20} {:<15}\".format(\"tau\", \"numerical range (m)\", \"percent error (%)\"))\n",
    "print(\"-\" * 45)\n",
    "for i in range(len(time_steps)):\n",
    "    print(\"{:<10.4f} {:<20.6f} {:<15.6f} \".format(\n",
    "        time_steps[i], numerical_range[i], percErrorEuler_array[i]))"
   ]
  }
 ],
 "metadata": {
  "kernelspec": {
   "display_name": "CompPhys",
   "language": "python",
   "name": "python3"
  },
  "language_info": {
   "codemirror_mode": {
    "name": "ipython",
    "version": 3
   },
   "file_extension": ".py",
   "mimetype": "text/x-python",
   "name": "python",
   "nbconvert_exporter": "python",
   "pygments_lexer": "ipython3",
   "version": "3.12.9"
  }
 },
 "nbformat": 4,
 "nbformat_minor": 2
}
